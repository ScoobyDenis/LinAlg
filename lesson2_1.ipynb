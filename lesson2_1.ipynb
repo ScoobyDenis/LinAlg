{
 "cells": [
  {
   "cell_type": "markdown",
   "id": "6f31182b",
   "metadata": {},
   "source": [
    "# Практическое задание"
   ]
  },
  {
   "cell_type": "code",
   "execution_count": 3,
   "id": "03433be0",
   "metadata": {},
   "outputs": [],
   "source": [
    "import numpy as np"
   ]
  },
  {
   "cell_type": "markdown",
   "id": "f8c828e3",
   "metadata": {},
   "source": [
    "__1.__ Установите, какие произведения матриц $AB$ и $BA$ определены, и найдите размерности полученных матриц:"
   ]
  },
  {
   "cell_type": "markdown",
   "id": "8b7fd54d",
   "metadata": {},
   "source": [
    " а) $A$ — матрица $4\\times 2$, $B$ — матрица $4\\times 2$;"
   ]
  },
  {
   "cell_type": "markdown",
   "id": "f4384bd6",
   "metadata": {},
   "source": [
    "A * B = 4 x 2 * 4 x 2  - произведение не определено<br> \n",
    "B * A = 4 x 2 * 4 x 2  - произведение не определено"
   ]
  },
  {
   "cell_type": "markdown",
   "id": "d1b5c3db",
   "metadata": {},
   "source": [
    "б)  𝐴  — матрица  2×5 ,  𝐵  — матрица  5×3"
   ]
  },
  {
   "cell_type": "markdown",
   "id": "49985e73",
   "metadata": {},
   "source": [
    "A * B = 2x5 * 5x3 = 2x3<br>\n",
    "B * A = 5x3 * 2x5 -  произведение не определено    "
   ]
  },
  {
   "cell_type": "markdown",
   "id": "bd97258c",
   "metadata": {},
   "source": [
    "в)  𝐴  — матрица  8×3 ,  𝐵  — матрица  3×8"
   ]
  },
  {
   "cell_type": "markdown",
   "id": "143938f6",
   "metadata": {},
   "source": [
    "A * B = 8x3 * 3x8 = 8x8<br>\n",
    "B * A = 3x8 * 8x3 = 3x3"
   ]
  },
  {
   "cell_type": "markdown",
   "id": "ef4f0a65",
   "metadata": {},
   "source": [
    "г)  𝐴  — квадратная матрица  4×4 ,  𝐵  — квадратная матрица  4×4 "
   ]
  },
  {
   "cell_type": "markdown",
   "id": "27432c5d",
   "metadata": {},
   "source": [
    "A * B = 4x4 * 4x4 = 4x4<br>\n",
    "B * A = 4x4 * 4x4 = 4x4"
   ]
  },
  {
   "cell_type": "markdown",
   "id": "195613df",
   "metadata": {},
   "source": [
    "__2.__ Найдите сумму и произведение матриц $A=\\begin{pmatrix}\n",
    "1 & -2\\\\ \n",
    "3 & 0\n",
    "\\end{pmatrix}$ и $B=\\begin{pmatrix}\n",
    "4 & -1\\\\ \n",
    "0 & 5\n",
    "\\end{pmatrix}.$"
   ]
  },
  {
   "cell_type": "code",
   "execution_count": 11,
   "id": "319cd8f4",
   "metadata": {},
   "outputs": [
    {
     "name": "stdout",
     "output_type": "stream",
     "text": [
      "Сумма матриц A и B = \n",
      "[[ 5 -3]\n",
      " [ 3  5]]\n",
      "\n",
      "Произведение матриц A и B = \n",
      "[[  4 -11]\n",
      " [ 12  -3]]\n"
     ]
    }
   ],
   "source": [
    "A = np.array([[1,-2], [3,0]])\n",
    "B = np.array([[4, -1], [0, 5]])\n",
    "print(f'Сумма матриц A и B = \\n{A+B}')\n",
    "print()\n",
    "print(f'Произведение матриц A и B = \\n{np.dot(A, B)}')"
   ]
  },
  {
   "cell_type": "markdown",
   "id": "b29da46c",
   "metadata": {},
   "source": [
    "__3.__ Из закономерностей сложения и умножения матриц на число можно сделать вывод, что матрицы одного размера образуют линейное пространство. Вычислите линейную комбинацию $3A-2B+4C$ для матриц $A=\\begin{pmatrix}\n",
    "1 & 7\\\\ \n",
    "3 & -6\n",
    "\\end{pmatrix}$, $B=\\begin{pmatrix}\n",
    "0 & 5\\\\ \n",
    "2 & -1\n",
    "\\end{pmatrix}$, $C=\\begin{pmatrix}\n",
    "2 & -4\\\\ \n",
    "1 & 1\n",
    "\\end{pmatrix}.$"
   ]
  },
  {
   "cell_type": "code",
   "execution_count": 12,
   "id": "d6e4157c",
   "metadata": {},
   "outputs": [
    {
     "data": {
      "text/plain": [
       "array([[ 11,  -5],\n",
       "       [  9, -12]])"
      ]
     },
     "execution_count": 12,
     "metadata": {},
     "output_type": "execute_result"
    }
   ],
   "source": [
    "A = np.array([[1, 7], [3, -6]])\n",
    "B = np.array([[0, 5], [2, -1]])\n",
    "C = np.array([[2, -4], [1, 1]])\n",
    "3*A - 2*B + 4*C"
   ]
  },
  {
   "cell_type": "markdown",
   "id": "e633c6ec",
   "metadata": {},
   "source": [
    "__4.__ Дана матрица $A=\\begin{pmatrix}\n",
    "4 & 1\\\\ \n",
    "5 & -2\\\\ \n",
    "2 & 3\n",
    "\\end{pmatrix}$.\n",
    "Вычислите $AA^{T}$ и $A^{T}A$."
   ]
  },
  {
   "cell_type": "code",
   "execution_count": 24,
   "id": "798138a2",
   "metadata": {},
   "outputs": [
    {
     "name": "stdout",
     "output_type": "stream",
     "text": [
      "A * A_t = \n",
      "[[17 18 11]\n",
      " [18 29  4]\n",
      " [11  4 13]]\n",
      "\n",
      "A_t * A = \n",
      "[[45  0]\n",
      " [ 0 14]]\n"
     ]
    }
   ],
   "source": [
    "A = np.array([[4, 1], [5, -2], [2, 3]])\n",
    "A_t = A.T\n",
    "print(f'A * A_t = \\n{np.dot(A, A_t)}')\n",
    "print()\n",
    "print(f'A_t * A = \\n{np.dot(A_t, A)}')"
   ]
  },
  {
   "cell_type": "markdown",
   "id": "d0c1a5a6",
   "metadata": {},
   "source": [
    "__5*.__ Напишите на Python функцию для перемножения двух произвольных матриц, не используя NumPy."
   ]
  },
  {
   "cell_type": "code",
   "execution_count": 68,
   "id": "dedbb972",
   "metadata": {},
   "outputs": [
    {
     "name": "stdout",
     "output_type": "stream",
     "text": [
      "4 -11\n",
      "12 -3\n",
      "\n",
      "17 18 11\n",
      "18 29 4\n",
      "11 4 13\n",
      "\n",
      "45 0\n",
      "0 14\n",
      "\n",
      "34 -20 -2 -10 0\n",
      "-39 63 32 -23 18\n",
      "0 -5 -1 3 5\n",
      "-6 3 9 -1 23\n",
      "-8 -5 -5 9 1\n",
      "\n"
     ]
    }
   ],
   "source": [
    "def matrix_multuply(A, B):\n",
    "    '''\n",
    "    Умножение матрицы А на матрицу B\n",
    "    '''\n",
    "    if A.shape[0] == B.shape[1]:\n",
    "        M = [[0] * A.shape[0] for _ in range(A.shape[0])]\n",
    "       \n",
    "        for i in range(A.shape[0]):\n",
    "            for j in range(A.shape[0]):\n",
    "                el = 0\n",
    "                for r in range(A.shape[1]):\n",
    "                    el += A[i][r] * B[r][j]\n",
    "                M[i][j] = el\n",
    "        for row in M:\n",
    "            print(*row)\n",
    "        print()    \n",
    "    else:\n",
    "        return 'Умножение матриц невозможно'\n",
    "\n",
    "A = np.array([[1,-2], [3,0]])\n",
    "B = np.array([[4, -1], [0, 5]])\n",
    "C = np.array([[4, 1], [5, -2], [2, 3]])\n",
    "D = np.array([[1, 2, 3, -4], [5, -7, 1, 2], [0, 1, 0, 1], [2, 1, 2, 3], [-1, 1, -2, 2]])\n",
    "E = np.array([[1, 2, 3, -4, 5], [5, -7, -2, 1, 2], [1, 0, 1, 0, 1], [-5, 2, 1, 2, 3]])\n",
    "matrix_multuply(A, B)\n",
    "\n",
    "matrix_multuply(C, A)\n",
    "\n",
    "matrix_multuply(C, C.T)\n",
    "\n",
    "matrix_multuply(C.T, C)\n",
    "matrix_multuply(D, E)"
   ]
  },
  {
   "cell_type": "code",
   "execution_count": null,
   "id": "30209c87",
   "metadata": {},
   "outputs": [],
   "source": []
  },
  {
   "cell_type": "code",
   "execution_count": null,
   "id": "5f1edaee",
   "metadata": {},
   "outputs": [],
   "source": []
  },
  {
   "cell_type": "code",
   "execution_count": null,
   "id": "c7fd5f4a",
   "metadata": {},
   "outputs": [],
   "source": []
  },
  {
   "cell_type": "code",
   "execution_count": null,
   "id": "6cca3fc1",
   "metadata": {},
   "outputs": [],
   "source": []
  }
 ],
 "metadata": {
  "kernelspec": {
   "display_name": "Python 3 (ipykernel)",
   "language": "python",
   "name": "python3"
  },
  "language_info": {
   "codemirror_mode": {
    "name": "ipython",
    "version": 3
   },
   "file_extension": ".py",
   "mimetype": "text/x-python",
   "name": "python",
   "nbconvert_exporter": "python",
   "pygments_lexer": "ipython3",
   "version": "3.9.7"
  }
 },
 "nbformat": 4,
 "nbformat_minor": 5
}
